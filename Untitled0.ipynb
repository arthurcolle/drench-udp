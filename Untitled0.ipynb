{
 "metadata": {
  "name": "",
  "signature": "sha256:ff1ca3900d27569811cd4bdea622c0f1b08777769a842278dc06469cbf69404b"
 },
 "nbformat": 3,
 "nbformat_minor": 0,
 "worksheets": [
  {
   "cells": [
    {
     "cell_type": "code",
     "collapsed": false,
     "input": [
      "import socket, array, struct, sys\n",
      "from random import randrange"
     ],
     "language": "python",
     "metadata": {},
     "outputs": [],
     "prompt_number": 170
    },
    {
     "cell_type": "code",
     "collapsed": false,
     "input": [
      "sock = socket.socket(socket.AF_INET, socket.SOCK_DGRAM)"
     ],
     "language": "python",
     "metadata": {},
     "outputs": [],
     "prompt_number": 171
    },
    {
     "cell_type": "code",
     "collapsed": false,
     "input": [
      "tracker = 'open.demonii.com'\n",
      "port = 1337\n",
      "info = (tracker, port)"
     ],
     "language": "python",
     "metadata": {},
     "outputs": [],
     "prompt_number": 172
    },
    {
     "cell_type": "code",
     "collapsed": false,
     "input": [
      "sock.connect(info)\n",
      "\n",
      "connection_id = 0x41727101980\n",
      "action = 0\n",
      "transaction_id = randrange(1,65535)\n",
      "\n",
      "\n",
      "request = struct.pack('>QLL',connection_id, action, transaction_id)\n",
      "\n",
      "sent = sock.send(request)\n",
      "response = sock.recv(68)"
     ],
     "language": "python",
     "metadata": {},
     "outputs": [],
     "prompt_number": 176
    },
    {
     "cell_type": "code",
     "collapsed": false,
     "input": [
      "action,transaction_id,connection_id=struct.unpack(\">LLQ\",response)"
     ],
     "language": "python",
     "metadata": {},
     "outputs": [],
     "prompt_number": 177
    },
    {
     "cell_type": "code",
     "collapsed": false,
     "input": [
      "print(action)\n",
      "print(transaction_id)\n",
      "print(connection_id)\n",
      "print(sys.getsizeof(response))"
     ],
     "language": "python",
     "metadata": {},
     "outputs": [
      {
       "output_type": "stream",
       "stream": "stdout",
       "text": [
        "0\n",
        "842\n",
        "10895480635938593698\n",
        "49\n"
       ]
      }
     ],
     "prompt_number": 178
    },
    {
     "cell_type": "code",
     "collapsed": false,
     "input": [
      "# 0       64-bit integer  connection_id\n",
      "# 8       32-bit integer  action          1 // announce\n",
      "# 12      32-bit integer  transaction_id\n",
      "# 16      20-byte string  info_hash\n",
      "# 36      20-byte string  peer_id\n",
      "# 56      64-bit integer  downloaded\n",
      "# 64      64-bit integer  left\n",
      "# 72      64-bit integer  uploaded\n",
      "# 80      32-bit integer  event           0 // 0: none; 1: completed; 2: started; 3: stopped\n",
      "# 84      32-bit integer  IP address      0 // default\n",
      "# 88      32-bit integer  key\n",
      "# 92      32-bit integer  num_want        -1 // default\n",
      "# 96      16-bit integer  port\n",
      "# 98\n",
      "cid = connection_id\n",
      "action = 1\n",
      "tid = transaction_id\n",
      "info_hash\n",
      "\n",
      "struct.pack('>QLL20s20sQQQLLLLH',)"
     ],
     "language": "python",
     "metadata": {},
     "outputs": [
      {
       "metadata": {},
       "output_type": "pyout",
       "prompt_number": 159,
       "text": [
        "4497486125440"
       ]
      }
     ],
     "prompt_number": 159
    },
    {
     "cell_type": "code",
     "collapsed": false,
     "input": [],
     "language": "python",
     "metadata": {},
     "outputs": [
      {
       "ename": "TypeError",
       "evalue": "Required argument 'port' (pos 2) not found",
       "output_type": "pyerr",
       "traceback": [
        "\u001b[0;31m---------------------------------------------------------------------------\u001b[0m\n\u001b[0;31mTypeError\u001b[0m                                 Traceback (most recent call last)",
        "\u001b[0;32m<ipython-input-181-3819c6e3a77a>\u001b[0m in \u001b[0;36m<module>\u001b[0;34m()\u001b[0m\n\u001b[0;32m----> 1\u001b[0;31m \u001b[0msocket\u001b[0m\u001b[0;34m.\u001b[0m\u001b[0mgetaddrinfo\u001b[0m\u001b[0;34m(\u001b[0m\u001b[0;34m'colle-mac'\u001b[0m\u001b[0;34m)\u001b[0m\u001b[0;34m\u001b[0m\u001b[0m\n\u001b[0m",
        "\u001b[0;31mTypeError\u001b[0m: Required argument 'port' (pos 2) not found"
       ]
      }
     ],
     "prompt_number": 181
    },
    {
     "cell_type": "code",
     "collapsed": false,
     "input": [],
     "language": "python",
     "metadata": {},
     "outputs": []
    }
   ],
   "metadata": {}
  }
 ]
}